{
 "cells": [
  {
   "cell_type": "code",
   "execution_count": 6,
   "id": "9733987c-96b2-4af1-b8a1-55eb2cd1387c",
   "metadata": {},
   "outputs": [
    {
     "data": {
      "text/plain": [
       "ono        2.0\n",
       "clapton    NaN\n",
       "dtype: float64"
      ]
     },
     "execution_count": 6,
     "metadata": {},
     "output_type": "execute_result"
    }
   ],
   "source": [
    " import numpy as np \n",
    "nan_series = pd.Series([2, np.nan], index = ['ono', 'clapton'])\n",
    "nan_series"
   ]
  },
  {
   "cell_type": "code",
   "execution_count": 7,
   "id": "5e1b2d54-fddc-4b5b-bb70-b64c07339e32",
   "metadata": {},
   "outputs": [
    {
     "data": {
      "text/plain": [
       "1"
      ]
     },
     "execution_count": 7,
     "metadata": {},
     "output_type": "execute_result"
    }
   ],
   "source": [
    "nan_series.count()\n"
   ]
  },
  {
   "cell_type": "code",
   "execution_count": 14,
   "id": "31009e14-62ef-4dc5-a0ef-6a9f78e91991",
   "metadata": {},
   "outputs": [
    {
     "data": {
      "text/plain": [
       "ono           2\n",
       "clapton    <NA>\n",
       "dtype: Int64"
      ]
     },
     "execution_count": 14,
     "metadata": {},
     "output_type": "execute_result"
    }
   ],
   "source": [
    "nan_series2 = pd.Series([2, None], index = ['ono', 'clapton'], dtype = 'Int64') \n",
    "nan_series2"
   ]
  },
  {
   "cell_type": "code",
   "execution_count": 15,
   "id": "87a8d0c5-e9ec-46b2-83ad-61da290d8e57",
   "metadata": {},
   "outputs": [
    {
     "data": {
      "text/plain": [
       "Index(['ono', 'clapton'], dtype='object')"
      ]
     },
     "execution_count": 15,
     "metadata": {},
     "output_type": "execute_result"
    }
   ],
   "source": [
    "nan_series.index"
   ]
  },
  {
   "cell_type": "code",
   "execution_count": 18,
   "id": "f0949423-c8db-4143-9561-ccb22c2f3c3e",
   "metadata": {},
   "outputs": [
    {
     "data": {
      "text/plain": [
       "mon     24\n",
       "tue     24\n",
       "wed     24\n",
       "thur    26\n",
       "fri     26\n",
       "sat     25\n",
       "sun     25\n",
       "Name: temperature last seven days, dtype: int64"
      ]
     },
     "execution_count": 18,
     "metadata": {},
     "output_type": "execute_result"
    }
   ],
   "source": [
    "temp_values = pd.Series([24, 24, 24, 26, 26, 25, 25], index = ['mon', 'tue', 'wed', 'thur', 'fri', 'sat', 'sun'], name = 'temperature last seven days')\n",
    "temp_values"
   ]
  },
  {
   "cell_type": "code",
   "execution_count": 21,
   "id": "5c827f19-8e1d-47eb-96be-112896b40f12",
   "metadata": {},
   "outputs": [
    {
     "data": {
      "text/plain": [
       "mon     False\n",
       "tue     False\n",
       "wed     False\n",
       "thur     True\n",
       "fri      True\n",
       "sat      True\n",
       "sun      True\n",
       "Name: temperature last seven days, dtype: bool"
      ]
     },
     "execution_count": 21,
     "metadata": {},
     "output_type": "execute_result"
    }
   ],
   "source": [
    "mask = temp_values > temp_values.mean()\n",
    "mask"
   ]
  },
  {
   "cell_type": "code",
   "execution_count": 22,
   "id": "2beadf43-63ee-483c-bef4-cb468461a13e",
   "metadata": {},
   "outputs": [
    {
     "data": {
      "text/plain": [
       "thur    26\n",
       "fri     26\n",
       "sat     25\n",
       "sun     25\n",
       "Name: temperature last seven days, dtype: int64"
      ]
     },
     "execution_count": 22,
     "metadata": {},
     "output_type": "execute_result"
    }
   ],
   "source": [
    "temp_values[mask]\n"
   ]
  },
  {
   "cell_type": "code",
   "execution_count": 23,
   "id": "e5a63635-a0e9-442d-b008-904a95818f5b",
   "metadata": {},
   "outputs": [
    {
     "data": {
      "text/plain": [
       "6"
      ]
     },
     "execution_count": 23,
     "metadata": {},
     "output_type": "execute_result"
    }
   ],
   "source": [
    "(2).__add__(4)\n"
   ]
  },
  {
   "cell_type": "code",
   "execution_count": 25,
   "id": "d584f8ea-00f5-429d-9f58-64500d5fbe0b",
   "metadata": {},
   "outputs": [
    {
     "data": {
      "text/plain": [
       "mon     48\n",
       "tue     48\n",
       "wed     48\n",
       "thur    52\n",
       "fri     52\n",
       "sat     50\n",
       "sun     50\n",
       "Name: temperature last seven days, dtype: int64"
      ]
     },
     "execution_count": 25,
     "metadata": {},
     "output_type": "execute_result"
    }
   ],
   "source": [
    "temp_values.radd(temp_values)\n"
   ]
  },
  {
   "cell_type": "code",
   "execution_count": 27,
   "id": "7017c9b4-dd2a-4213-b34e-fa454f018d5f",
   "metadata": {},
   "outputs": [
    {
     "data": {
      "text/plain": [
       "False"
      ]
     },
     "execution_count": 27,
     "metadata": {},
     "output_type": "execute_result"
    }
   ],
   "source": [
    "temp_values.is_unique"
   ]
  },
  {
   "cell_type": "code",
   "execution_count": 28,
   "id": "69e574af-13e9-4b58-962c-056969f57c74",
   "metadata": {},
   "outputs": [
    {
     "data": {
      "text/plain": [
       "False"
      ]
     },
     "execution_count": 28,
     "metadata": {},
     "output_type": "execute_result"
    }
   ],
   "source": [
    "temp_values.is_monotonic_increasing"
   ]
  },
  {
   "cell_type": "code",
   "execution_count": 29,
   "id": "1c923679-f067-493b-afda-cabc8bd4f4e4",
   "metadata": {},
   "outputs": [
    {
     "data": {
      "text/plain": [
       "25.0"
      ]
     },
     "execution_count": 29,
     "metadata": {},
     "output_type": "execute_result"
    }
   ],
   "source": [
    "temp_values.quantile()"
   ]
  },
  {
   "cell_type": "code",
   "execution_count": 30,
   "id": "0c20c1d0-7d66-4acc-b8b7-ae4d2ab878f7",
   "metadata": {},
   "outputs": [
    {
     "data": {
      "text/plain": [
       "iinfo(min=-9223372036854775808, max=9223372036854775807, dtype=int64)"
      ]
     },
     "execution_count": 30,
     "metadata": {},
     "output_type": "execute_result"
    }
   ],
   "source": [
    "np.iinfo('int64')"
   ]
  },
  {
   "cell_type": "code",
   "execution_count": 31,
   "id": "3cec96bc-9a77-44b7-a7a0-179db294fe91",
   "metadata": {},
   "outputs": [
    {
     "data": {
      "text/plain": [
       "iinfo(min=0, max=255, dtype=uint8)"
      ]
     },
     "execution_count": 31,
     "metadata": {},
     "output_type": "execute_result"
    }
   ],
   "source": [
    "np.iinfo('uint8')"
   ]
  },
  {
   "cell_type": "code",
   "execution_count": 32,
   "id": "27796a1f-82bd-4269-8e50-bb199d41a138",
   "metadata": {},
   "outputs": [
    {
     "data": {
      "text/plain": [
       "56"
      ]
     },
     "execution_count": 32,
     "metadata": {},
     "output_type": "execute_result"
    }
   ],
   "source": [
    "temp_values.nbytes"
   ]
  },
  {
   "cell_type": "code",
   "execution_count": 34,
   "id": "84e9acd6-ce6a-4db6-81a4-524d98fd5376",
   "metadata": {},
   "outputs": [
    {
     "data": {
      "text/plain": [
       "412"
      ]
     },
     "execution_count": 34,
     "metadata": {},
     "output_type": "execute_result"
    }
   ],
   "source": [
    "temp_values.memory_usage()"
   ]
  },
  {
   "cell_type": "code",
   "execution_count": 1,
   "id": "051d0a24-d1ec-4a32-a08d-b197db42d807",
   "metadata": {},
   "outputs": [
    {
     "name": "stdout",
     "output_type": "stream",
     "text": [
      "0    4.0\n",
      "1    1.5\n",
      "2    5.0\n",
      "3    1.5\n",
      "4    6.0\n",
      "5    7.0\n",
      "6    3.0\n",
      "dtype: float64\n"
     ]
    }
   ],
   "source": [
    "import pandas as pd\n",
    "\n",
    "s = pd.Series([3, 1, 4, 1, 5, 9, 2])\n",
    "\n",
    "# Rank the Series\n",
    "ranked_s = s.rank()\n",
    "print(ranked_s)\n"
   ]
  },
  {
   "cell_type": "code",
   "execution_count": 5,
   "id": "64f372a4-ca49-4550-9da8-efe8dcc87495",
   "metadata": {},
   "outputs": [
    {
     "data": {
      "text/plain": [
       "39.714285714285715"
      ]
     },
     "execution_count": 5,
     "metadata": {},
     "output_type": "execute_result"
    }
   ],
   "source": [
    "import pandas as pd \n",
    "sizes = pd.Series([36, 37, 38, 40, 41, 42, 44])\n",
    "sizes_m = sizes.mean()\n",
    "sizes_m"
   ]
  },
  {
   "cell_type": "code",
   "execution_count": 8,
   "id": "d35ea670-5ddf-4d24-b576-d2e218e57a4c",
   "metadata": {},
   "outputs": [
    {
     "data": {
      "text/plain": [
       "0     low\n",
       "1     low\n",
       "2     low\n",
       "3    high\n",
       "4    high\n",
       "5    high\n",
       "6    high\n",
       "dtype: object"
      ]
     },
     "execution_count": 8,
     "metadata": {},
     "output_type": "execute_result"
    }
   ],
   "source": [
    "def avg(sizes):\n",
    "    if sizes >= sizes_m:\n",
    "        return 'high'\n",
    "    else:\n",
    "        return 'low'\n",
    "        \n",
    "\n",
    "sizes.apply(avg)"
   ]
  },
  {
   "cell_type": "code",
   "execution_count": 26,
   "id": "e6768daa-e88b-483f-8b11-213572b2be8a",
   "metadata": {},
   "outputs": [
    {
     "ename": "SyntaxError",
     "evalue": "invalid syntax. Perhaps you forgot a comma? (2834541656.py, line 4)",
     "output_type": "error",
     "traceback": [
      "\u001b[1;36m  Cell \u001b[1;32mIn[26], line 4\u001b[1;36m\u001b[0m\n\u001b[1;33m    pd.Series (np.select([sizes.isin(condlist)], ['high', 'low']) index=sizes.index)\u001b[0m\n\u001b[1;37m               ^\u001b[0m\n\u001b[1;31mSyntaxError\u001b[0m\u001b[1;31m:\u001b[0m invalid syntax. Perhaps you forgot a comma?\n"
     ]
    }
   ],
   "source": [
    "import numpy as np \n",
    "condlist = [sizes >= sizes_m, sizes < sizes_m]\n",
    "choicelist = ['high', 'low']\n",
    "pd.Series (np.select([sizes.isin(condlist)], ['high', 'low']) index=sizes.index)"
   ]
  },
  {
   "cell_type": "code",
   "execution_count": null,
   "id": "160bc0dd-5128-46d2-9f60-c7552ea64774",
   "metadata": {},
   "outputs": [],
   "source": []
  }
 ],
 "metadata": {
  "kernelspec": {
   "display_name": "Python 3 (ipykernel)",
   "language": "python",
   "name": "python3"
  },
  "language_info": {
   "codemirror_mode": {
    "name": "ipython",
    "version": 3
   },
   "file_extension": ".py",
   "mimetype": "text/x-python",
   "name": "python",
   "nbconvert_exporter": "python",
   "pygments_lexer": "ipython3",
   "version": "3.11.7"
  }
 },
 "nbformat": 4,
 "nbformat_minor": 5
}
